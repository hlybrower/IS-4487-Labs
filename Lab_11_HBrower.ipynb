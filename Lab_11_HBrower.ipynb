{
  "nbformat": 4,
  "nbformat_minor": 0,
  "metadata": {
    "colab": {
      "provenance": [],
      "include_colab_link": true
    },
    "kernelspec": {
      "name": "python3",
      "display_name": "Python 3"
    },
    "language_info": {
      "name": "python"
    }
  },
  "cells": [
    {
      "cell_type": "markdown",
      "metadata": {
        "id": "view-in-github",
        "colab_type": "text"
      },
      "source": [
        "<a href=\"https://colab.research.google.com/github/hlybrower/IS-4487-Labs/blob/main/Lab_11_HBrower.ipynb\" target=\"_parent\"><img src=\"https://colab.research.google.com/assets/colab-badge.svg\" alt=\"Open In Colab\"/></a>"
      ]
    },
    {
      "cell_type": "markdown",
      "metadata": {
        "id": "p_Yu45OYdj3Y"
      },
      "source": [
        "# IS 4487 Module 5 Script\n",
        "\n",
        "## Objectives\n",
        "\n",
        "a. Understand model accuracy.  Why is it a performance metric for classification and not regression?\n",
        "    \n",
        "b. Calculate accuracy for a simple majority class model (this is the same as calculating the proportion of the majority class in a binary variable). Consider: x <- c(1, 1, 1, 0, 0).  What is the majority class? What is the proportion of the majority class in x?\n",
        "    \n",
        "c. Fit a tree model of the target with just one predictor variable and calculate the accuracy of this model.\n",
        "    \n",
        "d. Interpret a tree model, and calculate information gain.\n",
        "    \n",
        "e. Fit a tree model of the target using all the predictors, then:  create a visualization of the tree and identify the top 3 most important predictors in this model.\n",
        "    \n",
        "f. How do these models compare to majority class prediction?\n",
        "    \n",
        "g. How will you use a classification model as part of a solution to the AdviseInvest case?\n",
        "\n",
        "We will use the MegaTelCo data for this demonstration."
      ]
    },
    {
      "cell_type": "markdown",
      "metadata": {
        "id": "UE93RwXhgiJS"
      },
      "source": [
        "##Load Libraries\n",
        "\n",
        "In this class we will be using \n",
        "- Pandas\n",
        "- Scikitlearn\n",
        "- Matplotlib\n"
      ]
    },
    {
      "cell_type": "code",
      "metadata": {
        "id": "JYRZY5n0gfNe"
      },
      "source": [
        "import pandas as pd\n",
        "import matplotlib as mpl\n",
        "import numpy as np\n",
        "\n",
        "from sklearn.tree import DecisionTreeClassifier\n",
        "from sklearn.tree import export_graphviz # Import Decision Tree Classifier\n",
        "from sklearn.model_selection import train_test_split # Import train_test_split function\n",
        "from sklearn import metrics #Import scikit-learn metrics module for accuracy calculation\n",
        "from sklearn import tree\n"
      ],
      "execution_count": 22,
      "outputs": []
    },
    {
      "cell_type": "markdown",
      "metadata": {
        "id": "bREaXo8jfu-O"
      },
      "source": [
        "## Getting data into Pandas\n",
        "\n",
        "In this case we will load data from the statsmodels.org library\n",
        "\n",
        "See the Canvas assignments and lectures for a description of the Megatelco data\n",
        "\n",
        "**Note:** you will need to enter a code supplied by Google in the next step. \n"
      ]
    },
    {
      "cell_type": "code",
      "metadata": {
        "id": "6_FwprxVgR0e",
        "colab": {
          "base_uri": "https://localhost:8080/"
        },
        "outputId": "a147388a-ec27-4c36-ffc0-b73fa7604b45"
      },
      "source": [
        "from google.colab import drive \n",
        "drive.mount('/content/drive', force_remount=True)\n",
        "\n",
        "df = pd.read_csv (r'/content/drive/MyDrive/airquality.csv')"
      ],
      "execution_count": 2,
      "outputs": [
        {
          "output_type": "stream",
          "name": "stdout",
          "text": [
            "Mounted at /content/drive\n"
          ]
        }
      ]
    },
    {
      "cell_type": "code",
      "metadata": {
        "id": "gSvao0dlhlNn",
        "colab": {
          "base_uri": "https://localhost:8080/",
          "height": 363
        },
        "outputId": "4bd7d10c-9169-4f1e-a506-3e75ca4ff9dc"
      },
      "source": [
        "#look at the top rows\n",
        "df.head(10) "
      ],
      "execution_count": 3,
      "outputs": [
        {
          "output_type": "execute_result",
          "data": {
            "text/plain": [
              "  State Name county Name  State Code  County Code        Date  AQI  Category  \\\n",
              "0    Alabama     Baldwin           1            3  2021-01-01   27      Good   \n",
              "1    Alabama     Baldwin           1            3  2021-01-04   47      Good   \n",
              "2    Alabama     Baldwin           1            3  2021-01-07   24      Good   \n",
              "3    Alabama     Baldwin           1            3  2021-01-10   39      Good   \n",
              "4    Alabama     Baldwin           1            3  2021-01-13   46      Good   \n",
              "5    Alabama     Baldwin           1            3  2021-01-16   21      Good   \n",
              "6    Alabama     Baldwin           1            3  2021-01-19   52  Moderate   \n",
              "7    Alabama     Baldwin           1            3  2021-01-22   11      Good   \n",
              "8    Alabama     Baldwin           1            3  2021-01-25   39      Good   \n",
              "9    Alabama     Baldwin           1            3  2021-01-28   22      Good   \n",
              "\n",
              "  Defining Parameter Defining Site  Number of Sites Reporting  \n",
              "0              PM2.5   01-003-0010                          1  \n",
              "1              PM2.5   01-003-0010                          1  \n",
              "2              PM2.5   01-003-0010                          1  \n",
              "3              PM2.5   01-003-0010                          1  \n",
              "4              PM2.5   01-003-0010                          1  \n",
              "5              PM2.5   01-003-0010                          1  \n",
              "6              PM2.5   01-003-0010                          1  \n",
              "7              PM2.5   01-003-0010                          1  \n",
              "8              PM2.5   01-003-0010                          1  \n",
              "9              PM2.5   01-003-0010                          1  "
            ],
            "text/html": [
              "\n",
              "  <div id=\"df-5d855f99-a8b0-4d2f-8ea7-723527e76e3b\">\n",
              "    <div class=\"colab-df-container\">\n",
              "      <div>\n",
              "<style scoped>\n",
              "    .dataframe tbody tr th:only-of-type {\n",
              "        vertical-align: middle;\n",
              "    }\n",
              "\n",
              "    .dataframe tbody tr th {\n",
              "        vertical-align: top;\n",
              "    }\n",
              "\n",
              "    .dataframe thead th {\n",
              "        text-align: right;\n",
              "    }\n",
              "</style>\n",
              "<table border=\"1\" class=\"dataframe\">\n",
              "  <thead>\n",
              "    <tr style=\"text-align: right;\">\n",
              "      <th></th>\n",
              "      <th>State Name</th>\n",
              "      <th>county Name</th>\n",
              "      <th>State Code</th>\n",
              "      <th>County Code</th>\n",
              "      <th>Date</th>\n",
              "      <th>AQI</th>\n",
              "      <th>Category</th>\n",
              "      <th>Defining Parameter</th>\n",
              "      <th>Defining Site</th>\n",
              "      <th>Number of Sites Reporting</th>\n",
              "    </tr>\n",
              "  </thead>\n",
              "  <tbody>\n",
              "    <tr>\n",
              "      <th>0</th>\n",
              "      <td>Alabama</td>\n",
              "      <td>Baldwin</td>\n",
              "      <td>1</td>\n",
              "      <td>3</td>\n",
              "      <td>2021-01-01</td>\n",
              "      <td>27</td>\n",
              "      <td>Good</td>\n",
              "      <td>PM2.5</td>\n",
              "      <td>01-003-0010</td>\n",
              "      <td>1</td>\n",
              "    </tr>\n",
              "    <tr>\n",
              "      <th>1</th>\n",
              "      <td>Alabama</td>\n",
              "      <td>Baldwin</td>\n",
              "      <td>1</td>\n",
              "      <td>3</td>\n",
              "      <td>2021-01-04</td>\n",
              "      <td>47</td>\n",
              "      <td>Good</td>\n",
              "      <td>PM2.5</td>\n",
              "      <td>01-003-0010</td>\n",
              "      <td>1</td>\n",
              "    </tr>\n",
              "    <tr>\n",
              "      <th>2</th>\n",
              "      <td>Alabama</td>\n",
              "      <td>Baldwin</td>\n",
              "      <td>1</td>\n",
              "      <td>3</td>\n",
              "      <td>2021-01-07</td>\n",
              "      <td>24</td>\n",
              "      <td>Good</td>\n",
              "      <td>PM2.5</td>\n",
              "      <td>01-003-0010</td>\n",
              "      <td>1</td>\n",
              "    </tr>\n",
              "    <tr>\n",
              "      <th>3</th>\n",
              "      <td>Alabama</td>\n",
              "      <td>Baldwin</td>\n",
              "      <td>1</td>\n",
              "      <td>3</td>\n",
              "      <td>2021-01-10</td>\n",
              "      <td>39</td>\n",
              "      <td>Good</td>\n",
              "      <td>PM2.5</td>\n",
              "      <td>01-003-0010</td>\n",
              "      <td>1</td>\n",
              "    </tr>\n",
              "    <tr>\n",
              "      <th>4</th>\n",
              "      <td>Alabama</td>\n",
              "      <td>Baldwin</td>\n",
              "      <td>1</td>\n",
              "      <td>3</td>\n",
              "      <td>2021-01-13</td>\n",
              "      <td>46</td>\n",
              "      <td>Good</td>\n",
              "      <td>PM2.5</td>\n",
              "      <td>01-003-0010</td>\n",
              "      <td>1</td>\n",
              "    </tr>\n",
              "    <tr>\n",
              "      <th>5</th>\n",
              "      <td>Alabama</td>\n",
              "      <td>Baldwin</td>\n",
              "      <td>1</td>\n",
              "      <td>3</td>\n",
              "      <td>2021-01-16</td>\n",
              "      <td>21</td>\n",
              "      <td>Good</td>\n",
              "      <td>PM2.5</td>\n",
              "      <td>01-003-0010</td>\n",
              "      <td>1</td>\n",
              "    </tr>\n",
              "    <tr>\n",
              "      <th>6</th>\n",
              "      <td>Alabama</td>\n",
              "      <td>Baldwin</td>\n",
              "      <td>1</td>\n",
              "      <td>3</td>\n",
              "      <td>2021-01-19</td>\n",
              "      <td>52</td>\n",
              "      <td>Moderate</td>\n",
              "      <td>PM2.5</td>\n",
              "      <td>01-003-0010</td>\n",
              "      <td>1</td>\n",
              "    </tr>\n",
              "    <tr>\n",
              "      <th>7</th>\n",
              "      <td>Alabama</td>\n",
              "      <td>Baldwin</td>\n",
              "      <td>1</td>\n",
              "      <td>3</td>\n",
              "      <td>2021-01-22</td>\n",
              "      <td>11</td>\n",
              "      <td>Good</td>\n",
              "      <td>PM2.5</td>\n",
              "      <td>01-003-0010</td>\n",
              "      <td>1</td>\n",
              "    </tr>\n",
              "    <tr>\n",
              "      <th>8</th>\n",
              "      <td>Alabama</td>\n",
              "      <td>Baldwin</td>\n",
              "      <td>1</td>\n",
              "      <td>3</td>\n",
              "      <td>2021-01-25</td>\n",
              "      <td>39</td>\n",
              "      <td>Good</td>\n",
              "      <td>PM2.5</td>\n",
              "      <td>01-003-0010</td>\n",
              "      <td>1</td>\n",
              "    </tr>\n",
              "    <tr>\n",
              "      <th>9</th>\n",
              "      <td>Alabama</td>\n",
              "      <td>Baldwin</td>\n",
              "      <td>1</td>\n",
              "      <td>3</td>\n",
              "      <td>2021-01-28</td>\n",
              "      <td>22</td>\n",
              "      <td>Good</td>\n",
              "      <td>PM2.5</td>\n",
              "      <td>01-003-0010</td>\n",
              "      <td>1</td>\n",
              "    </tr>\n",
              "  </tbody>\n",
              "</table>\n",
              "</div>\n",
              "      <button class=\"colab-df-convert\" onclick=\"convertToInteractive('df-5d855f99-a8b0-4d2f-8ea7-723527e76e3b')\"\n",
              "              title=\"Convert this dataframe to an interactive table.\"\n",
              "              style=\"display:none;\">\n",
              "        \n",
              "  <svg xmlns=\"http://www.w3.org/2000/svg\" height=\"24px\"viewBox=\"0 0 24 24\"\n",
              "       width=\"24px\">\n",
              "    <path d=\"M0 0h24v24H0V0z\" fill=\"none\"/>\n",
              "    <path d=\"M18.56 5.44l.94 2.06.94-2.06 2.06-.94-2.06-.94-.94-2.06-.94 2.06-2.06.94zm-11 1L8.5 8.5l.94-2.06 2.06-.94-2.06-.94L8.5 2.5l-.94 2.06-2.06.94zm10 10l.94 2.06.94-2.06 2.06-.94-2.06-.94-.94-2.06-.94 2.06-2.06.94z\"/><path d=\"M17.41 7.96l-1.37-1.37c-.4-.4-.92-.59-1.43-.59-.52 0-1.04.2-1.43.59L10.3 9.45l-7.72 7.72c-.78.78-.78 2.05 0 2.83L4 21.41c.39.39.9.59 1.41.59.51 0 1.02-.2 1.41-.59l7.78-7.78 2.81-2.81c.8-.78.8-2.07 0-2.86zM5.41 20L4 18.59l7.72-7.72 1.47 1.35L5.41 20z\"/>\n",
              "  </svg>\n",
              "      </button>\n",
              "      \n",
              "  <style>\n",
              "    .colab-df-container {\n",
              "      display:flex;\n",
              "      flex-wrap:wrap;\n",
              "      gap: 12px;\n",
              "    }\n",
              "\n",
              "    .colab-df-convert {\n",
              "      background-color: #E8F0FE;\n",
              "      border: none;\n",
              "      border-radius: 50%;\n",
              "      cursor: pointer;\n",
              "      display: none;\n",
              "      fill: #1967D2;\n",
              "      height: 32px;\n",
              "      padding: 0 0 0 0;\n",
              "      width: 32px;\n",
              "    }\n",
              "\n",
              "    .colab-df-convert:hover {\n",
              "      background-color: #E2EBFA;\n",
              "      box-shadow: 0px 1px 2px rgba(60, 64, 67, 0.3), 0px 1px 3px 1px rgba(60, 64, 67, 0.15);\n",
              "      fill: #174EA6;\n",
              "    }\n",
              "\n",
              "    [theme=dark] .colab-df-convert {\n",
              "      background-color: #3B4455;\n",
              "      fill: #D2E3FC;\n",
              "    }\n",
              "\n",
              "    [theme=dark] .colab-df-convert:hover {\n",
              "      background-color: #434B5C;\n",
              "      box-shadow: 0px 1px 3px 1px rgba(0, 0, 0, 0.15);\n",
              "      filter: drop-shadow(0px 1px 2px rgba(0, 0, 0, 0.3));\n",
              "      fill: #FFFFFF;\n",
              "    }\n",
              "  </style>\n",
              "\n",
              "      <script>\n",
              "        const buttonEl =\n",
              "          document.querySelector('#df-5d855f99-a8b0-4d2f-8ea7-723527e76e3b button.colab-df-convert');\n",
              "        buttonEl.style.display =\n",
              "          google.colab.kernel.accessAllowed ? 'block' : 'none';\n",
              "\n",
              "        async function convertToInteractive(key) {\n",
              "          const element = document.querySelector('#df-5d855f99-a8b0-4d2f-8ea7-723527e76e3b');\n",
              "          const dataTable =\n",
              "            await google.colab.kernel.invokeFunction('convertToInteractive',\n",
              "                                                     [key], {});\n",
              "          if (!dataTable) return;\n",
              "\n",
              "          const docLinkHtml = 'Like what you see? Visit the ' +\n",
              "            '<a target=\"_blank\" href=https://colab.research.google.com/notebooks/data_table.ipynb>data table notebook</a>'\n",
              "            + ' to learn more about interactive tables.';\n",
              "          element.innerHTML = '';\n",
              "          dataTable['output_type'] = 'display_data';\n",
              "          await google.colab.output.renderOutput(dataTable, element);\n",
              "          const docLink = document.createElement('div');\n",
              "          docLink.innerHTML = docLinkHtml;\n",
              "          element.appendChild(docLink);\n",
              "        }\n",
              "      </script>\n",
              "    </div>\n",
              "  </div>\n",
              "  "
            ]
          },
          "metadata": {},
          "execution_count": 3
        }
      ]
    },
    {
      "cell_type": "code",
      "metadata": {
        "id": "AK7y336xJ3-6",
        "colab": {
          "base_uri": "https://localhost:8080/"
        },
        "outputId": "3cf5f2cb-5033-4535-ea0b-ea6bcbcd0a7c"
      },
      "source": [
        "#look at the datatypes\n",
        "df.info()"
      ],
      "execution_count": 4,
      "outputs": [
        {
          "output_type": "stream",
          "name": "stdout",
          "text": [
            "<class 'pandas.core.frame.DataFrame'>\n",
            "RangeIndex: 218196 entries, 0 to 218195\n",
            "Data columns (total 10 columns):\n",
            " #   Column                     Non-Null Count   Dtype \n",
            "---  ------                     --------------   ----- \n",
            " 0   State Name                 218196 non-null  object\n",
            " 1   county Name                218196 non-null  object\n",
            " 2   State Code                 218196 non-null  int64 \n",
            " 3   County Code                218196 non-null  int64 \n",
            " 4   Date                       218196 non-null  object\n",
            " 5   AQI                        218196 non-null  int64 \n",
            " 6   Category                   218196 non-null  object\n",
            " 7   Defining Parameter         218196 non-null  object\n",
            " 8   Defining Site              218196 non-null  object\n",
            " 9   Number of Sites Reporting  218196 non-null  int64 \n",
            "dtypes: int64(4), object(6)\n",
            "memory usage: 16.6+ MB\n"
          ]
        }
      ]
    },
    {
      "cell_type": "code",
      "metadata": {
        "id": "udYgkb6I3SJo",
        "colab": {
          "base_uri": "https://localhost:8080/",
          "height": 300
        },
        "outputId": "26bc6ee1-9360-4058-958f-fd7b4194a4c9"
      },
      "source": [
        "#describe the data before cleaning it\n",
        "df.describe()"
      ],
      "execution_count": 5,
      "outputs": [
        {
          "output_type": "execute_result",
          "data": {
            "text/plain": [
              "          State Code    County Code            AQI  Number of Sites Reporting\n",
              "count  218196.000000  218196.000000  218196.000000              218196.000000\n",
              "mean       30.178390      82.098265      39.584250                   1.924220\n",
              "std        15.755914      89.555906      21.547055                   2.251967\n",
              "min         1.000000       1.000000       0.000000                   1.000000\n",
              "25%        18.000000      25.000000      29.000000                   1.000000\n",
              "50%        30.000000      61.000000      38.000000                   1.000000\n",
              "75%        42.000000     111.000000      47.000000                   2.000000\n",
              "max        80.000000     810.000000    2723.000000                  34.000000"
            ],
            "text/html": [
              "\n",
              "  <div id=\"df-75139e7e-27aa-4dbd-8a54-80e53fd967df\">\n",
              "    <div class=\"colab-df-container\">\n",
              "      <div>\n",
              "<style scoped>\n",
              "    .dataframe tbody tr th:only-of-type {\n",
              "        vertical-align: middle;\n",
              "    }\n",
              "\n",
              "    .dataframe tbody tr th {\n",
              "        vertical-align: top;\n",
              "    }\n",
              "\n",
              "    .dataframe thead th {\n",
              "        text-align: right;\n",
              "    }\n",
              "</style>\n",
              "<table border=\"1\" class=\"dataframe\">\n",
              "  <thead>\n",
              "    <tr style=\"text-align: right;\">\n",
              "      <th></th>\n",
              "      <th>State Code</th>\n",
              "      <th>County Code</th>\n",
              "      <th>AQI</th>\n",
              "      <th>Number of Sites Reporting</th>\n",
              "    </tr>\n",
              "  </thead>\n",
              "  <tbody>\n",
              "    <tr>\n",
              "      <th>count</th>\n",
              "      <td>218196.000000</td>\n",
              "      <td>218196.000000</td>\n",
              "      <td>218196.000000</td>\n",
              "      <td>218196.000000</td>\n",
              "    </tr>\n",
              "    <tr>\n",
              "      <th>mean</th>\n",
              "      <td>30.178390</td>\n",
              "      <td>82.098265</td>\n",
              "      <td>39.584250</td>\n",
              "      <td>1.924220</td>\n",
              "    </tr>\n",
              "    <tr>\n",
              "      <th>std</th>\n",
              "      <td>15.755914</td>\n",
              "      <td>89.555906</td>\n",
              "      <td>21.547055</td>\n",
              "      <td>2.251967</td>\n",
              "    </tr>\n",
              "    <tr>\n",
              "      <th>min</th>\n",
              "      <td>1.000000</td>\n",
              "      <td>1.000000</td>\n",
              "      <td>0.000000</td>\n",
              "      <td>1.000000</td>\n",
              "    </tr>\n",
              "    <tr>\n",
              "      <th>25%</th>\n",
              "      <td>18.000000</td>\n",
              "      <td>25.000000</td>\n",
              "      <td>29.000000</td>\n",
              "      <td>1.000000</td>\n",
              "    </tr>\n",
              "    <tr>\n",
              "      <th>50%</th>\n",
              "      <td>30.000000</td>\n",
              "      <td>61.000000</td>\n",
              "      <td>38.000000</td>\n",
              "      <td>1.000000</td>\n",
              "    </tr>\n",
              "    <tr>\n",
              "      <th>75%</th>\n",
              "      <td>42.000000</td>\n",
              "      <td>111.000000</td>\n",
              "      <td>47.000000</td>\n",
              "      <td>2.000000</td>\n",
              "    </tr>\n",
              "    <tr>\n",
              "      <th>max</th>\n",
              "      <td>80.000000</td>\n",
              "      <td>810.000000</td>\n",
              "      <td>2723.000000</td>\n",
              "      <td>34.000000</td>\n",
              "    </tr>\n",
              "  </tbody>\n",
              "</table>\n",
              "</div>\n",
              "      <button class=\"colab-df-convert\" onclick=\"convertToInteractive('df-75139e7e-27aa-4dbd-8a54-80e53fd967df')\"\n",
              "              title=\"Convert this dataframe to an interactive table.\"\n",
              "              style=\"display:none;\">\n",
              "        \n",
              "  <svg xmlns=\"http://www.w3.org/2000/svg\" height=\"24px\"viewBox=\"0 0 24 24\"\n",
              "       width=\"24px\">\n",
              "    <path d=\"M0 0h24v24H0V0z\" fill=\"none\"/>\n",
              "    <path d=\"M18.56 5.44l.94 2.06.94-2.06 2.06-.94-2.06-.94-.94-2.06-.94 2.06-2.06.94zm-11 1L8.5 8.5l.94-2.06 2.06-.94-2.06-.94L8.5 2.5l-.94 2.06-2.06.94zm10 10l.94 2.06.94-2.06 2.06-.94-2.06-.94-.94-2.06-.94 2.06-2.06.94z\"/><path d=\"M17.41 7.96l-1.37-1.37c-.4-.4-.92-.59-1.43-.59-.52 0-1.04.2-1.43.59L10.3 9.45l-7.72 7.72c-.78.78-.78 2.05 0 2.83L4 21.41c.39.39.9.59 1.41.59.51 0 1.02-.2 1.41-.59l7.78-7.78 2.81-2.81c.8-.78.8-2.07 0-2.86zM5.41 20L4 18.59l7.72-7.72 1.47 1.35L5.41 20z\"/>\n",
              "  </svg>\n",
              "      </button>\n",
              "      \n",
              "  <style>\n",
              "    .colab-df-container {\n",
              "      display:flex;\n",
              "      flex-wrap:wrap;\n",
              "      gap: 12px;\n",
              "    }\n",
              "\n",
              "    .colab-df-convert {\n",
              "      background-color: #E8F0FE;\n",
              "      border: none;\n",
              "      border-radius: 50%;\n",
              "      cursor: pointer;\n",
              "      display: none;\n",
              "      fill: #1967D2;\n",
              "      height: 32px;\n",
              "      padding: 0 0 0 0;\n",
              "      width: 32px;\n",
              "    }\n",
              "\n",
              "    .colab-df-convert:hover {\n",
              "      background-color: #E2EBFA;\n",
              "      box-shadow: 0px 1px 2px rgba(60, 64, 67, 0.3), 0px 1px 3px 1px rgba(60, 64, 67, 0.15);\n",
              "      fill: #174EA6;\n",
              "    }\n",
              "\n",
              "    [theme=dark] .colab-df-convert {\n",
              "      background-color: #3B4455;\n",
              "      fill: #D2E3FC;\n",
              "    }\n",
              "\n",
              "    [theme=dark] .colab-df-convert:hover {\n",
              "      background-color: #434B5C;\n",
              "      box-shadow: 0px 1px 3px 1px rgba(0, 0, 0, 0.15);\n",
              "      filter: drop-shadow(0px 1px 2px rgba(0, 0, 0, 0.3));\n",
              "      fill: #FFFFFF;\n",
              "    }\n",
              "  </style>\n",
              "\n",
              "      <script>\n",
              "        const buttonEl =\n",
              "          document.querySelector('#df-75139e7e-27aa-4dbd-8a54-80e53fd967df button.colab-df-convert');\n",
              "        buttonEl.style.display =\n",
              "          google.colab.kernel.accessAllowed ? 'block' : 'none';\n",
              "\n",
              "        async function convertToInteractive(key) {\n",
              "          const element = document.querySelector('#df-75139e7e-27aa-4dbd-8a54-80e53fd967df');\n",
              "          const dataTable =\n",
              "            await google.colab.kernel.invokeFunction('convertToInteractive',\n",
              "                                                     [key], {});\n",
              "          if (!dataTable) return;\n",
              "\n",
              "          const docLinkHtml = 'Like what you see? Visit the ' +\n",
              "            '<a target=\"_blank\" href=https://colab.research.google.com/notebooks/data_table.ipynb>data table notebook</a>'\n",
              "            + ' to learn more about interactive tables.';\n",
              "          element.innerHTML = '';\n",
              "          dataTable['output_type'] = 'display_data';\n",
              "          await google.colab.output.renderOutput(dataTable, element);\n",
              "          const docLink = document.createElement('div');\n",
              "          docLink.innerHTML = docLinkHtml;\n",
              "          element.appendChild(docLink);\n",
              "        }\n",
              "      </script>\n",
              "    </div>\n",
              "  </div>\n",
              "  "
            ]
          },
          "metadata": {},
          "execution_count": 5
        }
      ]
    },
    {
      "cell_type": "markdown",
      "metadata": {
        "id": "BtxOWvFlKzgE"
      },
      "source": [
        "## Clean up the data\n",
        "Did you notice anything unusual about the \"house\" amounts? \n",
        "\n",
        "How about the handset price and income?\n",
        "\n",
        "Clean up the data in a  new datafram named \"df_clean\"\n"
      ]
    },
    {
      "cell_type": "code",
      "metadata": {
        "id": "7KXLvMcBK8Za",
        "colab": {
          "base_uri": "https://localhost:8080/",
          "height": 300
        },
        "outputId": "a31afef1-ba66-4701-d00a-b08374b354af"
      },
      "source": [
        "#Just focusing information for the county of salt lake, so eliminate all other info\n",
        "df_sl= df[(df['county Name']=='Salt Lake')]\n",
        "\n",
        "df_sl.describe()"
      ],
      "execution_count": 8,
      "outputs": [
        {
          "output_type": "execute_result",
          "data": {
            "text/plain": [
              "       State Code  County Code         AQI  Number of Sites Reporting\n",
              "count       305.0        305.0  305.000000                 305.000000\n",
              "mean         49.0         35.0   66.406557                   7.767213\n",
              "std           0.0          0.0   31.386470                   0.460521\n",
              "min          49.0         35.0    6.000000                   5.000000\n",
              "25%          49.0         35.0   44.000000                   8.000000\n",
              "50%          49.0         35.0   54.000000                   8.000000\n",
              "75%          49.0         35.0   84.000000                   8.000000\n",
              "max          49.0         35.0  177.000000                   8.000000"
            ],
            "text/html": [
              "\n",
              "  <div id=\"df-091f5f6d-ae25-411b-ad08-f4e6dd1f1f78\">\n",
              "    <div class=\"colab-df-container\">\n",
              "      <div>\n",
              "<style scoped>\n",
              "    .dataframe tbody tr th:only-of-type {\n",
              "        vertical-align: middle;\n",
              "    }\n",
              "\n",
              "    .dataframe tbody tr th {\n",
              "        vertical-align: top;\n",
              "    }\n",
              "\n",
              "    .dataframe thead th {\n",
              "        text-align: right;\n",
              "    }\n",
              "</style>\n",
              "<table border=\"1\" class=\"dataframe\">\n",
              "  <thead>\n",
              "    <tr style=\"text-align: right;\">\n",
              "      <th></th>\n",
              "      <th>State Code</th>\n",
              "      <th>County Code</th>\n",
              "      <th>AQI</th>\n",
              "      <th>Number of Sites Reporting</th>\n",
              "    </tr>\n",
              "  </thead>\n",
              "  <tbody>\n",
              "    <tr>\n",
              "      <th>count</th>\n",
              "      <td>305.0</td>\n",
              "      <td>305.0</td>\n",
              "      <td>305.000000</td>\n",
              "      <td>305.000000</td>\n",
              "    </tr>\n",
              "    <tr>\n",
              "      <th>mean</th>\n",
              "      <td>49.0</td>\n",
              "      <td>35.0</td>\n",
              "      <td>66.406557</td>\n",
              "      <td>7.767213</td>\n",
              "    </tr>\n",
              "    <tr>\n",
              "      <th>std</th>\n",
              "      <td>0.0</td>\n",
              "      <td>0.0</td>\n",
              "      <td>31.386470</td>\n",
              "      <td>0.460521</td>\n",
              "    </tr>\n",
              "    <tr>\n",
              "      <th>min</th>\n",
              "      <td>49.0</td>\n",
              "      <td>35.0</td>\n",
              "      <td>6.000000</td>\n",
              "      <td>5.000000</td>\n",
              "    </tr>\n",
              "    <tr>\n",
              "      <th>25%</th>\n",
              "      <td>49.0</td>\n",
              "      <td>35.0</td>\n",
              "      <td>44.000000</td>\n",
              "      <td>8.000000</td>\n",
              "    </tr>\n",
              "    <tr>\n",
              "      <th>50%</th>\n",
              "      <td>49.0</td>\n",
              "      <td>35.0</td>\n",
              "      <td>54.000000</td>\n",
              "      <td>8.000000</td>\n",
              "    </tr>\n",
              "    <tr>\n",
              "      <th>75%</th>\n",
              "      <td>49.0</td>\n",
              "      <td>35.0</td>\n",
              "      <td>84.000000</td>\n",
              "      <td>8.000000</td>\n",
              "    </tr>\n",
              "    <tr>\n",
              "      <th>max</th>\n",
              "      <td>49.0</td>\n",
              "      <td>35.0</td>\n",
              "      <td>177.000000</td>\n",
              "      <td>8.000000</td>\n",
              "    </tr>\n",
              "  </tbody>\n",
              "</table>\n",
              "</div>\n",
              "      <button class=\"colab-df-convert\" onclick=\"convertToInteractive('df-091f5f6d-ae25-411b-ad08-f4e6dd1f1f78')\"\n",
              "              title=\"Convert this dataframe to an interactive table.\"\n",
              "              style=\"display:none;\">\n",
              "        \n",
              "  <svg xmlns=\"http://www.w3.org/2000/svg\" height=\"24px\"viewBox=\"0 0 24 24\"\n",
              "       width=\"24px\">\n",
              "    <path d=\"M0 0h24v24H0V0z\" fill=\"none\"/>\n",
              "    <path d=\"M18.56 5.44l.94 2.06.94-2.06 2.06-.94-2.06-.94-.94-2.06-.94 2.06-2.06.94zm-11 1L8.5 8.5l.94-2.06 2.06-.94-2.06-.94L8.5 2.5l-.94 2.06-2.06.94zm10 10l.94 2.06.94-2.06 2.06-.94-2.06-.94-.94-2.06-.94 2.06-2.06.94z\"/><path d=\"M17.41 7.96l-1.37-1.37c-.4-.4-.92-.59-1.43-.59-.52 0-1.04.2-1.43.59L10.3 9.45l-7.72 7.72c-.78.78-.78 2.05 0 2.83L4 21.41c.39.39.9.59 1.41.59.51 0 1.02-.2 1.41-.59l7.78-7.78 2.81-2.81c.8-.78.8-2.07 0-2.86zM5.41 20L4 18.59l7.72-7.72 1.47 1.35L5.41 20z\"/>\n",
              "  </svg>\n",
              "      </button>\n",
              "      \n",
              "  <style>\n",
              "    .colab-df-container {\n",
              "      display:flex;\n",
              "      flex-wrap:wrap;\n",
              "      gap: 12px;\n",
              "    }\n",
              "\n",
              "    .colab-df-convert {\n",
              "      background-color: #E8F0FE;\n",
              "      border: none;\n",
              "      border-radius: 50%;\n",
              "      cursor: pointer;\n",
              "      display: none;\n",
              "      fill: #1967D2;\n",
              "      height: 32px;\n",
              "      padding: 0 0 0 0;\n",
              "      width: 32px;\n",
              "    }\n",
              "\n",
              "    .colab-df-convert:hover {\n",
              "      background-color: #E2EBFA;\n",
              "      box-shadow: 0px 1px 2px rgba(60, 64, 67, 0.3), 0px 1px 3px 1px rgba(60, 64, 67, 0.15);\n",
              "      fill: #174EA6;\n",
              "    }\n",
              "\n",
              "    [theme=dark] .colab-df-convert {\n",
              "      background-color: #3B4455;\n",
              "      fill: #D2E3FC;\n",
              "    }\n",
              "\n",
              "    [theme=dark] .colab-df-convert:hover {\n",
              "      background-color: #434B5C;\n",
              "      box-shadow: 0px 1px 3px 1px rgba(0, 0, 0, 0.15);\n",
              "      filter: drop-shadow(0px 1px 2px rgba(0, 0, 0, 0.3));\n",
              "      fill: #FFFFFF;\n",
              "    }\n",
              "  </style>\n",
              "\n",
              "      <script>\n",
              "        const buttonEl =\n",
              "          document.querySelector('#df-091f5f6d-ae25-411b-ad08-f4e6dd1f1f78 button.colab-df-convert');\n",
              "        buttonEl.style.display =\n",
              "          google.colab.kernel.accessAllowed ? 'block' : 'none';\n",
              "\n",
              "        async function convertToInteractive(key) {\n",
              "          const element = document.querySelector('#df-091f5f6d-ae25-411b-ad08-f4e6dd1f1f78');\n",
              "          const dataTable =\n",
              "            await google.colab.kernel.invokeFunction('convertToInteractive',\n",
              "                                                     [key], {});\n",
              "          if (!dataTable) return;\n",
              "\n",
              "          const docLinkHtml = 'Like what you see? Visit the ' +\n",
              "            '<a target=\"_blank\" href=https://colab.research.google.com/notebooks/data_table.ipynb>data table notebook</a>'\n",
              "            + ' to learn more about interactive tables.';\n",
              "          element.innerHTML = '';\n",
              "          dataTable['output_type'] = 'display_data';\n",
              "          await google.colab.output.renderOutput(dataTable, element);\n",
              "          const docLink = document.createElement('div');\n",
              "          docLink.innerHTML = docLinkHtml;\n",
              "          element.appendChild(docLink);\n",
              "        }\n",
              "      </script>\n",
              "    </div>\n",
              "  </div>\n",
              "  "
            ]
          },
          "metadata": {},
          "execution_count": 8
        }
      ]
    },
    {
      "cell_type": "markdown",
      "metadata": {
        "id": "Zp7wGDqJ4iuL"
      },
      "source": [
        "# Standardize attributes\n",
        "\n",
        "- Convert the \"college\" and \"considering_change_of_plan\" attributes to 0 or 1\n",
        "- Convert non-numeric attributes to numeric scale of 1-3\n"
      ]
    },
    {
      "cell_type": "code",
      "source": [
        "#Get distinct values\n",
        "df_sl['Category'].unique() "
      ],
      "metadata": {
        "id": "xNDR1xg5dVzm",
        "colab": {
          "base_uri": "https://localhost:8080/"
        },
        "outputId": "96fdd49e-30bb-44df-ed1f-c1cc25b43aa8"
      },
      "execution_count": 9,
      "outputs": [
        {
          "output_type": "execute_result",
          "data": {
            "text/plain": [
              "array(['Moderate', 'Good', 'Unhealthy for Sensitive Groups', 'Unhealthy'],\n",
              "      dtype=object)"
            ]
          },
          "metadata": {},
          "execution_count": 9
        }
      ]
    },
    {
      "cell_type": "code",
      "source": [
        "#Finding mean value of AQI\n",
        "df_sl['AQI'].mean()"
      ],
      "metadata": {
        "colab": {
          "base_uri": "https://localhost:8080/"
        },
        "id": "hFUxC7_chb0A",
        "outputId": "763161d7-9904-4137-ee8a-ad619430c0bd"
      },
      "execution_count": 10,
      "outputs": [
        {
          "output_type": "execute_result",
          "data": {
            "text/plain": [
              "66.40655737704918"
            ]
          },
          "metadata": {},
          "execution_count": 10
        }
      ]
    },
    {
      "cell_type": "markdown",
      "metadata": {
        "id": "SoJLJMlceORN"
      },
      "source": [
        "## Fit a FULL tree model\n",
        "\n",
        "Use just two variables, 'income' and 'house'. We'll call this the \"money tree.\" \n",
        "\n",
        "What is the accuracy of the money tree? "
      ]
    },
    {
      "cell_type": "code",
      "metadata": {
        "id": "WBH7aRXbOUf4"
      },
      "source": [
        "# split the datafram into independent (x) and dependent (predicted) attributes (y)\n",
        "x = df_sl[['State Code', 'County Code', 'AQI', 'Number of Sites Reporting']]\n",
        "y = df_sl['Category']\n",
        "y = y.astype('str')\n",
        "\n",
        "sl_tree = DecisionTreeClassifier(criterion = 'entropy', max_depth = 1 )\n",
        "\n",
        "# Create Decision Tree Classifer\n",
        "sl_tree = sl_tree.fit(x,y)\n"
      ],
      "execution_count": 13,
      "outputs": []
    },
    {
      "cell_type": "markdown",
      "source": [
        "## Preview the tree\n"
      ],
      "metadata": {
        "id": "x5n0jUSL8Nde"
      }
    },
    {
      "cell_type": "code",
      "source": [
        "from six import StringIO\n",
        "from IPython.display import Image  \n",
        "import pydotplus    \n",
        "\n",
        "dot_data = StringIO()\n",
        "export_graphviz(sl_tree, out_file=dot_data, \n",
        "                   feature_names=x.columns, \n",
        "                   filled=True,rounded=True, precision =2)\n",
        "\n",
        "graph=pydotplus.graph_from_dot_data(dot_data.getvalue())\n",
        "Image(graph.create_png())"
      ],
      "metadata": {
        "id": "lUzUB50D8SHt",
        "colab": {
          "base_uri": "https://localhost:8080/",
          "height": 237
        },
        "outputId": "cd6d233e-9e28-4e28-8d81-dd43b33d884c"
      },
      "execution_count": 14,
      "outputs": [
        {
          "output_type": "execute_result",
          "data": {
            "image/png": "[encoded data removed]",
            "text/plain": [
              "<IPython.core.display.Image object>"
            ]
          },
          "metadata": {},
          "execution_count": 14
        }
      ]
    },
    {
      "cell_type": "markdown",
      "source": [
        "## Check Accuracy\n",
        "\n",
        "What is the accuracy of the money_tree? Use these steps to calculate accuracy.\n",
        "\n",
        "Is this over fitted?"
      ],
      "metadata": {
        "id": "sSNfQKZA3jg2"
      }
    },
    {
      "cell_type": "code",
      "metadata": {
        "id": "eVOSIP8SeYg3",
        "colab": {
          "base_uri": "https://localhost:8080/"
        },
        "outputId": "dc04a2c4-c369-4a15-d2da-5d17d5f390e9"
      },
      "source": [
        "pred = sl_tree.predict(x)\n",
        "\n",
        "#print(pred)\n",
        "\n",
        "print(\"Accuracy:\",metrics.accuracy_score(y, pred))"
      ],
      "execution_count": 15,
      "outputs": [
        {
          "output_type": "stream",
          "name": "stdout",
          "text": [
            "Accuracy: 0.8459016393442623\n"
          ]
        }
      ]
    },
    {
      "cell_type": "markdown",
      "source": [
        "##Test and Train\n",
        "Now we will split the dataset into 80% training data and 20% test data"
      ],
      "metadata": {
        "id": "phFKD8KKmgkF"
      }
    },
    {
      "cell_type": "code",
      "source": [
        "x_train, x_test, y_train, y_test = train_test_split(x, y, test_size=0.2)"
      ],
      "metadata": {
        "id": "77_0IJBRmuFT"
      },
      "execution_count": 16,
      "outputs": []
    },
    {
      "cell_type": "markdown",
      "source": [
        "##Create a new tree using only training data"
      ],
      "metadata": {
        "id": "ZcjFH-MBnaml"
      }
    },
    {
      "cell_type": "code",
      "source": [
        "train_tree = DecisionTreeClassifier(criterion=\"entropy\", max_depth=5)\n",
        "\n",
        "# Create Decision Tree Classifer\n",
        "train_tree = train_tree.fit(x_train,y_train)"
      ],
      "metadata": {
        "id": "ZS66hDodnmIX"
      },
      "execution_count": 17,
      "outputs": []
    },
    {
      "cell_type": "markdown",
      "source": [
        "##Apply the new tree to our test data"
      ],
      "metadata": {
        "id": "meDBr2fatOqF"
      }
    },
    {
      "cell_type": "code",
      "source": [
        "pred = train_tree.predict(x_test)\n",
        "print(\"Accuracy:\",metrics.accuracy_score(y_test, pred))"
      ],
      "metadata": {
        "id": "UneJift1nxVb",
        "colab": {
          "base_uri": "https://localhost:8080/"
        },
        "outputId": "92f26a30-c537-41a8-eada-daaf30941a49"
      },
      "execution_count": 18,
      "outputs": [
        {
          "output_type": "stream",
          "name": "stdout",
          "text": [
            "Accuracy: 0.9836065573770492\n"
          ]
        }
      ]
    },
    {
      "cell_type": "markdown",
      "source": [
        "## Visualize the trained tree"
      ],
      "metadata": {
        "id": "uYl-WnlrNBbr"
      }
    },
    {
      "cell_type": "code",
      "source": [
        "from six import StringIO\n",
        "from IPython.display import Image  \n",
        "import pydotplus\n",
        "\n",
        "dot_data = StringIO()\n",
        "export_graphviz(train_tree, out_file=dot_data, \n",
        "                   feature_names=x.columns, \n",
        "                   filled=True,rounded=True, precision =2)\n",
        "\n",
        "graph=pydotplus.graph_from_dot_data(dot_data.getvalue())\n",
        "Image(graph.create_png())"
      ],
      "metadata": {
        "id": "JsdhyStgNEYy",
        "colab": {
          "base_uri": "https://localhost:8080/",
          "height": 514
        },
        "outputId": "d6c30ee3-b028-4582-c463-1bfcef32a27a"
      },
      "execution_count": 24,
      "outputs": [
        {
          "output_type": "execute_result",
          "data": {
            "image/png": "[encoded data removed]",
            "text/plain": [
              "<IPython.core.display.Image object>"
            ]
          },
          "metadata": {},
          "execution_count": 24
        }
      ]
    },
    {
      "cell_type": "markdown",
      "source": [
        "## Did the model improve?\n",
        "👎  👍"
      ],
      "metadata": {
        "id": "G0xA_kdGQ1Ln"
      }
    }
  ]
}