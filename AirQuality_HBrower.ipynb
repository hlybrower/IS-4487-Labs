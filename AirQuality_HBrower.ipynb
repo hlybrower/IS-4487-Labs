{
  "nbformat": 4,
  "nbformat_minor": 0,
  "metadata": {
    "colab": {
      "provenance": [],
      "authorship_tag": "ABX9TyOTVu8X3hpl3z/AdwuNN38E",
      "include_colab_link": true
    },
    "kernelspec": {
      "name": "python3",
      "display_name": "Python 3"
    },
    "language_info": {
      "name": "python"
    }
  },
  "cells": [
    {
      "cell_type": "markdown",
      "metadata": {
        "id": "view-in-github",
        "colab_type": "text"
      },
      "source": [
        "<a href=\"https://colab.research.google.com/github/hlybrower/IS-4487-Labs/blob/main/AirQuality_HBrower.ipynb\" target=\"_parent\"><img src=\"https://colab.research.google.com/assets/colab-badge.svg\" alt=\"Open In Colab\"/></a>"
      ]
    },
    {
      "cell_type": "code",
      "execution_count": 1,
      "metadata": {
        "id": "OTMwHFYsxQ00"
      },
      "outputs": [],
      "source": [
        "# import libraries\n",
        "import pandas as pd\n",
        "import matplotlib as mpl\n",
        "import numpy as np\n",
        "\n",
        "from sklearn.tree import DecisionTreeClassifier\n",
        "from sklearn.tree import export_graphviz # Import Decision Tree Classifier\n",
        "from sklearn.model_selection import train_test_split # Import train_test_split function\n",
        "from sklearn import metrics #Import scikit-learn metrics module for accuracy calculation\n",
        "from sklearn import tree\n"
      ]
    },
    {
      "cell_type": "code",
      "source": [
        "# import data\n",
        "from google.colab import drive \n",
        "drive.mount('/content/drive', force_remount=True)\n",
        "\n",
        "df_22 = pd.read_csv (r'/content/drive/MyDrive/aqi2022.csv')\n",
        "df_12 = pd.read_csv (r'/content/drive/MyDrive/aqi2012.csv')\n"
      ],
      "metadata": {
        "colab": {
          "base_uri": "https://localhost:8080/"
        },
        "id": "xx9SpMrjxai3",
        "outputId": "57e2d53f-90c0-4740-edcc-2831ee23c8ba"
      },
      "execution_count": 2,
      "outputs": [
        {
          "output_type": "stream",
          "name": "stdout",
          "text": [
            "Mounted at /content/drive\n"
          ]
        }
      ]
    },
    {
      "cell_type": "code",
      "source": [
        "# Look at data types\n",
        "df_22.info()"
      ],
      "metadata": {
        "colab": {
          "base_uri": "https://localhost:8080/"
        },
        "id": "1VKjqMZoyxb9",
        "outputId": "5675f0b1-2340-4c15-a3e8-24871855da8d"
      },
      "execution_count": 7,
      "outputs": [
        {
          "output_type": "stream",
          "name": "stdout",
          "text": [
            "<class 'pandas.core.frame.DataFrame'>\n",
            "RangeIndex: 202786 entries, 0 to 202785\n",
            "Data columns (total 10 columns):\n",
            " #   Column                     Non-Null Count   Dtype \n",
            "---  ------                     --------------   ----- \n",
            " 0   State Name                 202786 non-null  object\n",
            " 1   county Name                202786 non-null  object\n",
            " 2   State Code                 202786 non-null  int64 \n",
            " 3   County Code                202786 non-null  int64 \n",
            " 4   Date                       202786 non-null  object\n",
            " 5   AQI                        202786 non-null  int64 \n",
            " 6   Category                   202786 non-null  object\n",
            " 7   Defining Parameter         202786 non-null  object\n",
            " 8   Defining Site              202786 non-null  object\n",
            " 9   Number of Sites Reporting  202786 non-null  int64 \n",
            "dtypes: int64(4), object(6)\n",
            "memory usage: 15.5+ MB\n"
          ]
        }
      ]
    },
    {
      "cell_type": "code",
      "source": [
        "# Filter 2022 for just Utah\n",
        "\n",
        "df_22_ut= df_22[(df_22['State Name']=='Utah')]\n",
        "\n",
        "df_22_ut.describe()\n",
        "     "
      ],
      "metadata": {
        "colab": {
          "base_uri": "https://localhost:8080/",
          "height": 300
        },
        "id": "8RWyhGEMyKZr",
        "outputId": "3bd4d210-4b82-4f88-cd57-2cb9b5f4f281"
      },
      "execution_count": 8,
      "outputs": [
        {
          "output_type": "execute_result",
          "data": {
            "text/plain": [
              "       State Code  County Code          AQI  Number of Sites Reporting\n",
              "count      3818.0  3818.000000  3818.000000                3818.000000\n",
              "mean         49.0    30.114196    48.905972                   1.903091\n",
              "std           0.0    18.429682    15.369855                   1.922533\n",
              "min          49.0     3.000000     2.000000                   1.000000\n",
              "25%          49.0    13.000000    40.000000                   1.000000\n",
              "50%          49.0    35.000000    45.000000                   1.000000\n",
              "75%          49.0    47.000000    53.000000                   2.000000\n",
              "max          49.0    57.000000   177.000000                   8.000000"
            ],
            "text/html": [
              "\n",
              "  <div id=\"df-5515d6f4-5fde-49f0-b4d6-74a730e77542\">\n",
              "    <div class=\"colab-df-container\">\n",
              "      <div>\n",
              "<style scoped>\n",
              "    .dataframe tbody tr th:only-of-type {\n",
              "        vertical-align: middle;\n",
              "    }\n",
              "\n",
              "    .dataframe tbody tr th {\n",
              "        vertical-align: top;\n",
              "    }\n",
              "\n",
              "    .dataframe thead th {\n",
              "        text-align: right;\n",
              "    }\n",
              "</style>\n",
              "<table border=\"1\" class=\"dataframe\">\n",
              "  <thead>\n",
              "    <tr style=\"text-align: right;\">\n",
              "      <th></th>\n",
              "      <th>State Code</th>\n",
              "      <th>County Code</th>\n",
              "      <th>AQI</th>\n",
              "      <th>Number of Sites Reporting</th>\n",
              "    </tr>\n",
              "  </thead>\n",
              "  <tbody>\n",
              "    <tr>\n",
              "      <th>count</th>\n",
              "      <td>3818.0</td>\n",
              "      <td>3818.000000</td>\n",
              "      <td>3818.000000</td>\n",
              "      <td>3818.000000</td>\n",
              "    </tr>\n",
              "    <tr>\n",
              "      <th>mean</th>\n",
              "      <td>49.0</td>\n",
              "      <td>30.114196</td>\n",
              "      <td>48.905972</td>\n",
              "      <td>1.903091</td>\n",
              "    </tr>\n",
              "    <tr>\n",
              "      <th>std</th>\n",
              "      <td>0.0</td>\n",
              "      <td>18.429682</td>\n",
              "      <td>15.369855</td>\n",
              "      <td>1.922533</td>\n",
              "    </tr>\n",
              "    <tr>\n",
              "      <th>min</th>\n",
              "      <td>49.0</td>\n",
              "      <td>3.000000</td>\n",
              "      <td>2.000000</td>\n",
              "      <td>1.000000</td>\n",
              "    </tr>\n",
              "    <tr>\n",
              "      <th>25%</th>\n",
              "      <td>49.0</td>\n",
              "      <td>13.000000</td>\n",
              "      <td>40.000000</td>\n",
              "      <td>1.000000</td>\n",
              "    </tr>\n",
              "    <tr>\n",
              "      <th>50%</th>\n",
              "      <td>49.0</td>\n",
              "      <td>35.000000</td>\n",
              "      <td>45.000000</td>\n",
              "      <td>1.000000</td>\n",
              "    </tr>\n",
              "    <tr>\n",
              "      <th>75%</th>\n",
              "      <td>49.0</td>\n",
              "      <td>47.000000</td>\n",
              "      <td>53.000000</td>\n",
              "      <td>2.000000</td>\n",
              "    </tr>\n",
              "    <tr>\n",
              "      <th>max</th>\n",
              "      <td>49.0</td>\n",
              "      <td>57.000000</td>\n",
              "      <td>177.000000</td>\n",
              "      <td>8.000000</td>\n",
              "    </tr>\n",
              "  </tbody>\n",
              "</table>\n",
              "</div>\n",
              "      <button class=\"colab-df-convert\" onclick=\"convertToInteractive('df-5515d6f4-5fde-49f0-b4d6-74a730e77542')\"\n",
              "              title=\"Convert this dataframe to an interactive table.\"\n",
              "              style=\"display:none;\">\n",
              "        \n",
              "  <svg xmlns=\"http://www.w3.org/2000/svg\" height=\"24px\"viewBox=\"0 0 24 24\"\n",
              "       width=\"24px\">\n",
              "    <path d=\"M0 0h24v24H0V0z\" fill=\"none\"/>\n",
              "    <path d=\"M18.56 5.44l.94 2.06.94-2.06 2.06-.94-2.06-.94-.94-2.06-.94 2.06-2.06.94zm-11 1L8.5 8.5l.94-2.06 2.06-.94-2.06-.94L8.5 2.5l-.94 2.06-2.06.94zm10 10l.94 2.06.94-2.06 2.06-.94-2.06-.94-.94-2.06-.94 2.06-2.06.94z\"/><path d=\"M17.41 7.96l-1.37-1.37c-.4-.4-.92-.59-1.43-.59-.52 0-1.04.2-1.43.59L10.3 9.45l-7.72 7.72c-.78.78-.78 2.05 0 2.83L4 21.41c.39.39.9.59 1.41.59.51 0 1.02-.2 1.41-.59l7.78-7.78 2.81-2.81c.8-.78.8-2.07 0-2.86zM5.41 20L4 18.59l7.72-7.72 1.47 1.35L5.41 20z\"/>\n",
              "  </svg>\n",
              "      </button>\n",
              "      \n",
              "  <style>\n",
              "    .colab-df-container {\n",
              "      display:flex;\n",
              "      flex-wrap:wrap;\n",
              "      gap: 12px;\n",
              "    }\n",
              "\n",
              "    .colab-df-convert {\n",
              "      background-color: #E8F0FE;\n",
              "      border: none;\n",
              "      border-radius: 50%;\n",
              "      cursor: pointer;\n",
              "      display: none;\n",
              "      fill: #1967D2;\n",
              "      height: 32px;\n",
              "      padding: 0 0 0 0;\n",
              "      width: 32px;\n",
              "    }\n",
              "\n",
              "    .colab-df-convert:hover {\n",
              "      background-color: #E2EBFA;\n",
              "      box-shadow: 0px 1px 2px rgba(60, 64, 67, 0.3), 0px 1px 3px 1px rgba(60, 64, 67, 0.15);\n",
              "      fill: #174EA6;\n",
              "    }\n",
              "\n",
              "    [theme=dark] .colab-df-convert {\n",
              "      background-color: #3B4455;\n",
              "      fill: #D2E3FC;\n",
              "    }\n",
              "\n",
              "    [theme=dark] .colab-df-convert:hover {\n",
              "      background-color: #434B5C;\n",
              "      box-shadow: 0px 1px 3px 1px rgba(0, 0, 0, 0.15);\n",
              "      filter: drop-shadow(0px 1px 2px rgba(0, 0, 0, 0.3));\n",
              "      fill: #FFFFFF;\n",
              "    }\n",
              "  </style>\n",
              "\n",
              "      <script>\n",
              "        const buttonEl =\n",
              "          document.querySelector('#df-5515d6f4-5fde-49f0-b4d6-74a730e77542 button.colab-df-convert');\n",
              "        buttonEl.style.display =\n",
              "          google.colab.kernel.accessAllowed ? 'block' : 'none';\n",
              "\n",
              "        async function convertToInteractive(key) {\n",
              "          const element = document.querySelector('#df-5515d6f4-5fde-49f0-b4d6-74a730e77542');\n",
              "          const dataTable =\n",
              "            await google.colab.kernel.invokeFunction('convertToInteractive',\n",
              "                                                     [key], {});\n",
              "          if (!dataTable) return;\n",
              "\n",
              "          const docLinkHtml = 'Like what you see? Visit the ' +\n",
              "            '<a target=\"_blank\" href=https://colab.research.google.com/notebooks/data_table.ipynb>data table notebook</a>'\n",
              "            + ' to learn more about interactive tables.';\n",
              "          element.innerHTML = '';\n",
              "          dataTable['output_type'] = 'display_data';\n",
              "          await google.colab.output.renderOutput(dataTable, element);\n",
              "          const docLink = document.createElement('div');\n",
              "          docLink.innerHTML = docLinkHtml;\n",
              "          element.appendChild(docLink);\n",
              "        }\n",
              "      </script>\n",
              "    </div>\n",
              "  </div>\n",
              "  "
            ]
          },
          "metadata": {},
          "execution_count": 8
        }
      ]
    },
    {
      "cell_type": "code",
      "source": [
        "# Filter 2012 for just Utah\n",
        "\n",
        "df_12_ut= df_12[(df_12['State Name']=='Utah')]\n",
        "\n",
        "df_12_ut.describe()"
      ],
      "metadata": {
        "colab": {
          "base_uri": "https://localhost:8080/",
          "height": 300
        },
        "id": "Hp3v5Og-y3i4",
        "outputId": "5b19ff0e-895f-4d33-f049-19a56954d5ba"
      },
      "execution_count": 9,
      "outputs": [
        {
          "output_type": "execute_result",
          "data": {
            "text/plain": [
              "       State Code  County Code          AQI  Number of Sites Reporting\n",
              "count      5065.0  5065.000000  5065.000000                5065.000000\n",
              "mean         49.0    29.016979    50.623889                   1.956762\n",
              "std           0.0    19.621067    21.091122                   1.361100\n",
              "min          49.0     3.000000     2.000000                   1.000000\n",
              "25%          49.0     9.000000    37.000000                   1.000000\n",
              "50%          49.0    35.000000    46.000000                   1.000000\n",
              "75%          49.0    47.000000    61.000000                   2.000000\n",
              "max          49.0    57.000000   169.000000                   6.000000"
            ],
            "text/html": [
              "\n",
              "  <div id=\"df-379e6507-e979-477a-94c9-50bf4de0ad8e\">\n",
              "    <div class=\"colab-df-container\">\n",
              "      <div>\n",
              "<style scoped>\n",
              "    .dataframe tbody tr th:only-of-type {\n",
              "        vertical-align: middle;\n",
              "    }\n",
              "\n",
              "    .dataframe tbody tr th {\n",
              "        vertical-align: top;\n",
              "    }\n",
              "\n",
              "    .dataframe thead th {\n",
              "        text-align: right;\n",
              "    }\n",
              "</style>\n",
              "<table border=\"1\" class=\"dataframe\">\n",
              "  <thead>\n",
              "    <tr style=\"text-align: right;\">\n",
              "      <th></th>\n",
              "      <th>State Code</th>\n",
              "      <th>County Code</th>\n",
              "      <th>AQI</th>\n",
              "      <th>Number of Sites Reporting</th>\n",
              "    </tr>\n",
              "  </thead>\n",
              "  <tbody>\n",
              "    <tr>\n",
              "      <th>count</th>\n",
              "      <td>5065.0</td>\n",
              "      <td>5065.000000</td>\n",
              "      <td>5065.000000</td>\n",
              "      <td>5065.000000</td>\n",
              "    </tr>\n",
              "    <tr>\n",
              "      <th>mean</th>\n",
              "      <td>49.0</td>\n",
              "      <td>29.016979</td>\n",
              "      <td>50.623889</td>\n",
              "      <td>1.956762</td>\n",
              "    </tr>\n",
              "    <tr>\n",
              "      <th>std</th>\n",
              "      <td>0.0</td>\n",
              "      <td>19.621067</td>\n",
              "      <td>21.091122</td>\n",
              "      <td>1.361100</td>\n",
              "    </tr>\n",
              "    <tr>\n",
              "      <th>min</th>\n",
              "      <td>49.0</td>\n",
              "      <td>3.000000</td>\n",
              "      <td>2.000000</td>\n",
              "      <td>1.000000</td>\n",
              "    </tr>\n",
              "    <tr>\n",
              "      <th>25%</th>\n",
              "      <td>49.0</td>\n",
              "      <td>9.000000</td>\n",
              "      <td>37.000000</td>\n",
              "      <td>1.000000</td>\n",
              "    </tr>\n",
              "    <tr>\n",
              "      <th>50%</th>\n",
              "      <td>49.0</td>\n",
              "      <td>35.000000</td>\n",
              "      <td>46.000000</td>\n",
              "      <td>1.000000</td>\n",
              "    </tr>\n",
              "    <tr>\n",
              "      <th>75%</th>\n",
              "      <td>49.0</td>\n",
              "      <td>47.000000</td>\n",
              "      <td>61.000000</td>\n",
              "      <td>2.000000</td>\n",
              "    </tr>\n",
              "    <tr>\n",
              "      <th>max</th>\n",
              "      <td>49.0</td>\n",
              "      <td>57.000000</td>\n",
              "      <td>169.000000</td>\n",
              "      <td>6.000000</td>\n",
              "    </tr>\n",
              "  </tbody>\n",
              "</table>\n",
              "</div>\n",
              "      <button class=\"colab-df-convert\" onclick=\"convertToInteractive('df-379e6507-e979-477a-94c9-50bf4de0ad8e')\"\n",
              "              title=\"Convert this dataframe to an interactive table.\"\n",
              "              style=\"display:none;\">\n",
              "        \n",
              "  <svg xmlns=\"http://www.w3.org/2000/svg\" height=\"24px\"viewBox=\"0 0 24 24\"\n",
              "       width=\"24px\">\n",
              "    <path d=\"M0 0h24v24H0V0z\" fill=\"none\"/>\n",
              "    <path d=\"M18.56 5.44l.94 2.06.94-2.06 2.06-.94-2.06-.94-.94-2.06-.94 2.06-2.06.94zm-11 1L8.5 8.5l.94-2.06 2.06-.94-2.06-.94L8.5 2.5l-.94 2.06-2.06.94zm10 10l.94 2.06.94-2.06 2.06-.94-2.06-.94-.94-2.06-.94 2.06-2.06.94z\"/><path d=\"M17.41 7.96l-1.37-1.37c-.4-.4-.92-.59-1.43-.59-.52 0-1.04.2-1.43.59L10.3 9.45l-7.72 7.72c-.78.78-.78 2.05 0 2.83L4 21.41c.39.39.9.59 1.41.59.51 0 1.02-.2 1.41-.59l7.78-7.78 2.81-2.81c.8-.78.8-2.07 0-2.86zM5.41 20L4 18.59l7.72-7.72 1.47 1.35L5.41 20z\"/>\n",
              "  </svg>\n",
              "      </button>\n",
              "      \n",
              "  <style>\n",
              "    .colab-df-container {\n",
              "      display:flex;\n",
              "      flex-wrap:wrap;\n",
              "      gap: 12px;\n",
              "    }\n",
              "\n",
              "    .colab-df-convert {\n",
              "      background-color: #E8F0FE;\n",
              "      border: none;\n",
              "      border-radius: 50%;\n",
              "      cursor: pointer;\n",
              "      display: none;\n",
              "      fill: #1967D2;\n",
              "      height: 32px;\n",
              "      padding: 0 0 0 0;\n",
              "      width: 32px;\n",
              "    }\n",
              "\n",
              "    .colab-df-convert:hover {\n",
              "      background-color: #E2EBFA;\n",
              "      box-shadow: 0px 1px 2px rgba(60, 64, 67, 0.3), 0px 1px 3px 1px rgba(60, 64, 67, 0.15);\n",
              "      fill: #174EA6;\n",
              "    }\n",
              "\n",
              "    [theme=dark] .colab-df-convert {\n",
              "      background-color: #3B4455;\n",
              "      fill: #D2E3FC;\n",
              "    }\n",
              "\n",
              "    [theme=dark] .colab-df-convert:hover {\n",
              "      background-color: #434B5C;\n",
              "      box-shadow: 0px 1px 3px 1px rgba(0, 0, 0, 0.15);\n",
              "      filter: drop-shadow(0px 1px 2px rgba(0, 0, 0, 0.3));\n",
              "      fill: #FFFFFF;\n",
              "    }\n",
              "  </style>\n",
              "\n",
              "      <script>\n",
              "        const buttonEl =\n",
              "          document.querySelector('#df-379e6507-e979-477a-94c9-50bf4de0ad8e button.colab-df-convert');\n",
              "        buttonEl.style.display =\n",
              "          google.colab.kernel.accessAllowed ? 'block' : 'none';\n",
              "\n",
              "        async function convertToInteractive(key) {\n",
              "          const element = document.querySelector('#df-379e6507-e979-477a-94c9-50bf4de0ad8e');\n",
              "          const dataTable =\n",
              "            await google.colab.kernel.invokeFunction('convertToInteractive',\n",
              "                                                     [key], {});\n",
              "          if (!dataTable) return;\n",
              "\n",
              "          const docLinkHtml = 'Like what you see? Visit the ' +\n",
              "            '<a target=\"_blank\" href=https://colab.research.google.com/notebooks/data_table.ipynb>data table notebook</a>'\n",
              "            + ' to learn more about interactive tables.';\n",
              "          element.innerHTML = '';\n",
              "          dataTable['output_type'] = 'display_data';\n",
              "          await google.colab.output.renderOutput(dataTable, element);\n",
              "          const docLink = document.createElement('div');\n",
              "          docLink.innerHTML = docLinkHtml;\n",
              "          element.appendChild(docLink);\n",
              "        }\n",
              "      </script>\n",
              "    </div>\n",
              "  </div>\n",
              "  "
            ]
          },
          "metadata": {},
          "execution_count": 9
        }
      ]
    },
    {
      "cell_type": "code",
      "source": [
        "# Calculate the average AQI for Utah and the rest of the US\n",
        "\n",
        "utah_aqi_22 = df_22_ut['AQI'].mean()\n",
        "us_aqi_22 = df_22[df_22['State Name'] != 'Utah']['AQI'].mean()\n",
        "utah_aqi_12 = df_12_ut['AQI'].mean()\n",
        "us_aqi_12 = df_12[df_12['State Name'] != 'Utah']['AQI'].mean()\n",
        "\n",
        "print(f\"Average AQI in Utah in 2022: {utah_aqi_22:.2f}\")\n",
        "print(f\"Average AQI in the rest of the US in 2022: {us_aqi_22:.2f}\")\n",
        "print(f\"Average AQI in Utah in 2012: {utah_aqi_12:.2f}\")\n",
        "print(f\"Average AQI in the rest of the US in 2012: {us_aqi_12:.2f}\")"
      ],
      "metadata": {
        "colab": {
          "base_uri": "https://localhost:8080/"
        },
        "id": "YDKKN4bP0ZFi",
        "outputId": "08f4b688-7f09-4e98-ac96-7cb6c57a8a8b"
      },
      "execution_count": 10,
      "outputs": [
        {
          "output_type": "stream",
          "name": "stdout",
          "text": [
            "Average AQI in Utah in 2022: 48.91\n",
            "Average AQI in the rest of the US in 2022: 39.39\n",
            "Average AQI in Utah in 2012: 50.62\n",
            "Average AQI in the rest of the US in 2012: 44.10\n"
          ]
        }
      ]
    },
    {
      "cell_type": "code",
      "source": [
        "# Determine the best and worst seasons for air quality in Utah\n",
        "df_22_ut['Month'] = pd.to_datetime(df_22_ut['Date']).dt.month\n",
        "df_12_ut['Month'] = pd.to_datetime(df_12_ut['Date']).dt.month\n",
        "utah_22_seasons = df_22_ut.groupby('Month')['AQI'].mean()\n",
        "utah_12_seasons = df_12_ut.groupby('Month')['AQI'].mean()\n",
        "\n",
        "best_season_22 = utah_22_seasons.idxmin()\n",
        "worst_season_22 = utah_22_seasons.idxmax()\n",
        "best_season_12 = utah_12_seasons.idxmin()\n",
        "worst_season_12 = utah_12_seasons.idxmax()\n",
        "\n",
        "print(f\"Best season for air quality in Utah in 2022: {best_season_22}\")\n",
        "print(f\"Worst season for air quality in Utah in 2022: {worst_season_22}\")\n",
        "print(f\"Best season for air quality in Utah in 2012: {best_season_12}\")\n",
        "print(f\"Worst season for air quality in Utah in 2012: {worst_season_12}\")"
      ],
      "metadata": {
        "colab": {
          "base_uri": "https://localhost:8080/"
        },
        "id": "t5RGQp9J0rZh",
        "outputId": "2d3adb15-8955-4330-9240-8d1a90879ec2"
      },
      "execution_count": 14,
      "outputs": [
        {
          "output_type": "stream",
          "name": "stdout",
          "text": [
            "Best season for air quality in Utah in 2022: 11\n",
            "Worst season for air quality in Utah in 2022: 7\n",
            "Best season for air quality in Utah in 2012: 10\n",
            "Worst season for air quality in Utah in 2012: 5\n"
          ]
        },
        {
          "output_type": "stream",
          "name": "stderr",
          "text": [
            "<ipython-input-14-4c4c9cd0dd32>:2: SettingWithCopyWarning: \n",
            "A value is trying to be set on a copy of a slice from a DataFrame.\n",
            "Try using .loc[row_indexer,col_indexer] = value instead\n",
            "\n",
            "See the caveats in the documentation: https://pandas.pydata.org/pandas-docs/stable/user_guide/indexing.html#returning-a-view-versus-a-copy\n",
            "  df_22_ut['Month'] = pd.to_datetime(df_22_ut['Date']).dt.month\n",
            "<ipython-input-14-4c4c9cd0dd32>:3: SettingWithCopyWarning: \n",
            "A value is trying to be set on a copy of a slice from a DataFrame.\n",
            "Try using .loc[row_indexer,col_indexer] = value instead\n",
            "\n",
            "See the caveats in the documentation: https://pandas.pydata.org/pandas-docs/stable/user_guide/indexing.html#returning-a-view-versus-a-copy\n",
            "  df_12_ut['Month'] = pd.to_datetime(df_12_ut['Date']).dt.month\n"
          ]
        }
      ]
    },
    {
      "cell_type": "code",
      "source": [
        "# Determine the most significant air quality pollutants in Utah\n",
        "utah_22_pollutants = df_22_ut.groupby('Defining Parameter')['AQI'].mean()\n",
        "utah_12_pollutants = df_12_ut.groupby('Defining Parameter')['AQI'].mean()\n",
        "\n",
        "most_significant_22 = utah_22_pollutants.idxmax()\n",
        "least_significant_22 = utah_22_pollutants.idxmin()\n",
        "most_significant_12 = utah_12_pollutants.idxmax()\n",
        "least_significant_12 = utah_12_pollutants.idxmin()\n",
        "\n",
        "print(f\"Most significant air quality pollutant in Utah in 2022: {most_significant_22}\")\n",
        "print(f\"Least significant air quality pollutant in Utah in 2022: {least_significant_22}\")\n",
        "print(f\"Most significant air quality pollutant in Utah in 2012: {most_significant_12}\")\n",
        "print(f\"Least significant air quality pollutant in Utah in 2012: {least_significant_12}\")"
      ],
      "metadata": {
        "colab": {
          "base_uri": "https://localhost:8080/"
        },
        "id": "rP-vfUaS0_kd",
        "outputId": "614aabd2-a9ce-4b2f-b750-1e51579c64c2"
      },
      "execution_count": 16,
      "outputs": [
        {
          "output_type": "stream",
          "name": "stdout",
          "text": [
            "Most significant air quality pollutant in Utah in 2022: PM10\n",
            "Least significant air quality pollutant in Utah in 2022: CO\n",
            "Most significant air quality pollutant in Utah in 2012: Ozone\n",
            "Least significant air quality pollutant in Utah in 2012: NO2\n"
          ]
        }
      ]
    },
    {
      "cell_type": "code",
      "source": [
        "# Determine the variables most directly correlated with poor air quality in Utah\n",
        "corr_22 = df_22_ut.corr()['AQI'].abs().sort_values(ascending=False)\n",
        "corr_12 = df_12_ut.corr()['AQI'].abs().sort_values(ascending=False)\n",
        "\n",
        "print(f\"Variables most directly correlated with poor air quality in Utah in 2022:\")\n",
        "print(corr_22[1:6]) # Exclude AQI from the list\n",
        "print(f\"Variables most directly correlated with poor air quality in Utah in 2012:\")\n",
        "print(corr_12[1:6]) # Exclude AQI from the list"
      ],
      "metadata": {
        "colab": {
          "base_uri": "https://localhost:8080/"
        },
        "id": "EtIZd3Aa162I",
        "outputId": "95721a35-f458-4b3c-d8e5-41e01e0fcbd7"
      },
      "execution_count": 17,
      "outputs": [
        {
          "output_type": "stream",
          "name": "stdout",
          "text": [
            "Variables most directly correlated with poor air quality in Utah in 2022:\n",
            "Number of Sites Reporting    0.203196\n",
            "Month                        0.164021\n",
            "County Code                  0.053749\n",
            "State Code                        NaN\n",
            "Name: AQI, dtype: float64\n",
            "Variables most directly correlated with poor air quality in Utah in 2012:\n",
            "Number of Sites Reporting    0.262646\n",
            "County Code                  0.035898\n",
            "Month                        0.022119\n",
            "State Code                        NaN\n",
            "Name: AQI, dtype: float64\n"
          ]
        },
        {
          "output_type": "stream",
          "name": "stderr",
          "text": [
            "<ipython-input-17-b53762271377>:2: FutureWarning: The default value of numeric_only in DataFrame.corr is deprecated. In a future version, it will default to False. Select only valid columns or specify the value of numeric_only to silence this warning.\n",
            "  corr_22 = df_22_ut.corr()['AQI'].abs().sort_values(ascending=False)\n",
            "<ipython-input-17-b53762271377>:3: FutureWarning: The default value of numeric_only in DataFrame.corr is deprecated. In a future version, it will default to False. Select only valid columns or specify the value of numeric_only to silence this warning.\n",
            "  corr_12 = df_12_ut.corr()['AQI'].abs().sort_values(ascending=False)\n"
          ]
        }
      ]
    },
    {
      "cell_type": "code",
      "source": [
        "# Import necessary libraries\n",
        "import matplotlib.pyplot as plt\n",
        "from statsmodels.tsa.holtwinters import ExponentialSmoothing\n",
        "\n",
        "# Convert Date column to datetime format\n",
        "df_22_ut['Date'] = pd.to_datetime(df_22_ut['Date'])\n",
        "\n",
        "# Group by month and take mean AQI\n",
        "df_utah_monthly = df_22_ut.resample('M', on='Date').mean()\n",
        "\n",
        "# Fit the model to the data\n",
        "model = ExponentialSmoothing(df_utah_monthly['AQI'], trend='add', seasonal=None)\n",
        "fit = model.fit()\n",
        "\n",
        "# Predict the next 12 months\n",
        "pred = fit.forecast(12)\n",
        "\n",
        "# Generate a visualization of the predicted and actual values\n",
        "plt.figure(figsize=(12, 6))\n",
        "plt.plot(df_utah_monthly.index, df_utah_monthly['AQI'], label='Actual')\n",
        "plt.plot(pred.index, pred.values, label='Predicted')\n",
        "plt.legend()\n",
        "plt.title('Air Quality Index in Utah')\n",
        "plt.xlabel('Date')\n",
        "plt.ylabel('AQI')\n",
        "plt.show()\n"
      ],
      "metadata": {
        "colab": {
          "base_uri": "https://localhost:8080/",
          "height": 723
        },
        "id": "zSo2HBm23FlU",
        "outputId": "7e6c7cba-c0a3-4e93-c8e1-70b1bc94530d"
      },
      "execution_count": 19,
      "outputs": [
        {
          "output_type": "stream",
          "name": "stderr",
          "text": [
            "<ipython-input-19-67cfd096e807>:6: SettingWithCopyWarning: \n",
            "A value is trying to be set on a copy of a slice from a DataFrame.\n",
            "Try using .loc[row_indexer,col_indexer] = value instead\n",
            "\n",
            "See the caveats in the documentation: https://pandas.pydata.org/pandas-docs/stable/user_guide/indexing.html#returning-a-view-versus-a-copy\n",
            "  df_22_ut['Date'] = pd.to_datetime(df_22_ut['Date'])\n",
            "<ipython-input-19-67cfd096e807>:9: FutureWarning: The default value of numeric_only in DataFrameGroupBy.mean is deprecated. In a future version, numeric_only will default to False. Either specify numeric_only or select only columns which should be valid for the function.\n",
            "  df_utah_monthly = df_22_ut.resample('M', on='Date').mean()\n"
          ]
        },
        {
          "output_type": "display_data",
          "data": {
            "text/plain": [
              "<Figure size 1200x600 with 1 Axes>"
            ],
            "image/png": "[encoded data removed]"
          },
          "metadata": {}
        }
      ]
    }
  ]
}